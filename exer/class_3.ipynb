{
 "cells": [
  {
   "cell_type": "code",
   "execution_count": 5,
   "id": "e2b77ae5-329d-4d5e-ac9e-80b26c379ac5",
   "metadata": {},
   "outputs": [
    {
     "name": "stdout",
     "output_type": "stream",
     "text": [
      "[2, 3, 5, 7, 11, 2]\n",
      "[]\n"
     ]
    }
   ],
   "source": [
    "\"\"\"\n",
    "Lists\n",
    "\n",
    "\"\"\"\n",
    "\n",
    "primes = [2,3,5,7,11,2]\n",
    "print(primes)\n",
    "\n",
    "empty_list = []\n",
    "print(empty_list)"
   ]
  },
  {
   "cell_type": "code",
   "execution_count": 12,
   "id": "8e0d4246-963d-4442-802b-74d5c364cf34",
   "metadata": {},
   "outputs": [
    {
     "name": "stdout",
     "output_type": "stream",
     "text": [
      "['teahyoung', 1, 1.4, True]\n"
     ]
    }
   ],
   "source": [
    "\"\"\"\n",
    "Multiple different data types\n",
    "\"\"\"\n",
    "\n",
    "mixed = ['teahyoung',1,1.4,True]\n",
    "print(mixed)\n",
    "\n",
    "list_of_lists = [['a',1],['b',2]]"
   ]
  },
  {
   "cell_type": "code",
   "execution_count": 15,
   "id": "af8bdc35-2d5d-49ae-8c09-96eb9fd155c3",
   "metadata": {},
   "outputs": [
    {
     "name": "stdout",
     "output_type": "stream",
     "text": [
      "kim\n",
      "lee\n",
      "jang\n"
     ]
    }
   ],
   "source": [
    "\"\"\"\n",
    "zero-indexing\n",
    "\"\"\"\n",
    "\n",
    "names = [\"kim\",\"lee\",\"jang\"]\n",
    "\n",
    "print(names[0]) #first data\n",
    "print(names[1])\n",
    "print(names[2])\n"
   ]
  },
  {
   "cell_type": "code",
   "execution_count": 18,
   "id": "66a0c6a0-425a-4be1-a97f-3c636b7b16f7",
   "metadata": {},
   "outputs": [
    {
     "name": "stdout",
     "output_type": "stream",
     "text": [
      "jang\n",
      "lee\n"
     ]
    }
   ],
   "source": [
    "\"\"\"\n",
    "negative indexing\n",
    "\"\"\"\n",
    "\n",
    "print(names[-1])#last data\n",
    "print(names[-2])#second  to last data"
   ]
  },
  {
   "cell_type": "code",
   "execution_count": 24,
   "id": "5f6cda6f-3171-42ba-9860-6f3e5c95cc4d",
   "metadata": {},
   "outputs": [
    {
     "name": "stdout",
     "output_type": "stream",
     "text": [
      "['만우관', '장공관', '필헌관', '소통관', '송암관', '늦봄관', '장준하통일관']\n",
      "['생활관', '장공관', '필헌관', '소통관']\n"
     ]
    }
   ],
   "source": [
    "\"\"\"\n",
    "List slicing\n",
    "\"\"\"\n",
    "\n",
    "hsu_buildings = ['만우관', '장공관', '필헌관', '소통관', '송암관', '늦봄관','장준하통일관']\n",
    "building_slice= hsu_buildings[:4]# 독립적인 객체\n",
    "building_slice[0]='생활관'\n",
    "\n",
    "print(hsu_buildings)\n",
    "print(building_slice)"
   ]
  },
  {
   "cell_type": "code",
   "execution_count": 27,
   "id": "02203e42-cf35-4cdb-82cd-5d980f86b624",
   "metadata": {},
   "outputs": [
    {
     "name": "stdout",
     "output_type": "stream",
     "text": [
      "중화비빔밥\n",
      "['해우리', '한식', '해우라면']\n"
     ]
    }
   ],
   "source": [
    "\"\"\"\n",
    "Multi- dimensional Lists\n",
    "\"\"\"\n",
    "\n",
    "restaurants = [['해우리','한식','고s'],\n",
    "               ['짜장명가','중식','중화비빔밥'],\n",
    "               ['찌개동아리','한식','제육전골'],\n",
    "               ['맘스터치','양식','싸이버거']]\n",
    "\n",
    "print(restaurants[1][2])\n",
    "\n",
    "restaurants[0][2] = '해우라면'\n",
    "\n",
    "print(restaurants[0])"
   ]
  },
  {
   "cell_type": "code",
   "execution_count": 31,
   "id": "bc0b3713-091a-439b-bb46-5c718314bcf6",
   "metadata": {},
   "outputs": [
    {
     "name": "stdout",
     "output_type": "stream",
     "text": [
      "['cake', 'cookie', 'bread', 'biscuit', 'tart']\n"
     ]
    }
   ],
   "source": [
    "\"\"\"\n",
    "Adding Lists Together\n",
    "\"\"\"\n",
    "\n",
    "items_one = ['cake','cookie','bread'] \n",
    "items_two = ['biscuit','tart']\n",
    "\n",
    "total_items = items_one + items_two\n",
    "print(total_items)"
   ]
  },
  {
   "cell_type": "code",
   "execution_count": 51,
   "id": "3d871141-7338-4859-8af7-31b6d4a3b177",
   "metadata": {},
   "outputs": [
    {
     "name": "stdout",
     "output_type": "stream",
     "text": [
      "7\n",
      "2\n",
      "[2, 41, 24, 12, 4, 124, 2, 52]\n",
      "[2, 41, 15, 24, 12, 4, 124, 2, 52]\n",
      "[2, 41, 24, 12, 4, 124, 2]\n",
      "[41, 24, 12, 4, 124, 2]\n",
      "[2, 4, 12, 24, 41, 124]\n",
      "[2, 4, 12, 24, 41, 124]\n"
     ]
    }
   ],
   "source": [
    "\"\"\"\n",
    "useful methods for lists\n",
    "\"\"\"\n",
    "\n",
    "# len() 리스트 크기\n",
    "knapsack = [2,41,24,12,4,124,2]\n",
    "size = len(knapsack)\n",
    "print(size)\n",
    "\n",
    "# count()  특정 아이템의 개수 \n",
    "count = knapsack.count(2)\n",
    "print(count)\n",
    "\n",
    "# append() 리스트 끝에 추가\n",
    "knapsack.append(52)\n",
    "print(knapsack)\n",
    "\n",
    "# insert() 특정위치에 아이템 추가\n",
    "knapsack.insert(2,15)\n",
    "print(knapsack)\n",
    "\n",
    "# pop() 특정 위치 아이템 삭제  인자 없으면 마지막 아이템 삭제\n",
    "knapsack.pop(2)\n",
    "knapsack.pop()\n",
    "print(knapsack)\n",
    "\n",
    "# remove 특정 아이템 삭지\n",
    "knapsack.remove(2)\n",
    "# knapsack.remove(62)\n",
    "print(knapsack)\n",
    "\n",
    "# sort() 리스트 내 아이템들을 정렬\n",
    "\n",
    "knapsack.sort()\n",
    "print(knapsack)\n",
    "\n",
    "# sorted() 정렬된 리스트 리턴\n",
    "\n",
    "sara = sorted(knapsack)\n",
    "\n",
    "print(sara)"
   ]
  }
 ],
 "metadata": {
  "kernelspec": {
   "display_name": "Python 3",
   "language": "python",
   "name": "python3"
  },
  "language_info": {
   "codemirror_mode": {
    "name": "ipython",
    "version": 3
   },
   "file_extension": ".py",
   "mimetype": "text/x-python",
   "name": "python",
   "nbconvert_exporter": "python",
   "pygments_lexer": "ipython3",
   "version": "3.8.8"
  }
 },
 "nbformat": 4,
 "nbformat_minor": 5
}
