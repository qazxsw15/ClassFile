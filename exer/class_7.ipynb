{
 "cells": [
  {
   "cell_type": "code",
   "execution_count": 1,
   "id": "078141f8-01a3-49ec-aad4-49d774046d24",
   "metadata": {},
   "outputs": [],
   "source": [
    "import numpy as np"
   ]
  },
  {
   "cell_type": "code",
   "execution_count": 2,
   "id": "bfca95a8-7386-4ebd-84f0-7ac36411d08a",
   "metadata": {},
   "outputs": [
    {
     "name": "stdout",
     "output_type": "stream",
     "text": [
      "[0 1 2]\n",
      "[3 4 5 6 7 8]\n",
      "[3 5 7]\n"
     ]
    }
   ],
   "source": [
    "\"\"\"\n",
    "NumPy Array Attributes\n",
    "\"\"\"\n",
    "\n",
    "# Creating on array\n",
    "\n",
    "print(np.arange(3))\n",
    "print(np.arange(3,9))\n",
    "print(np.arange(3,9,2))"
   ]
  },
  {
   "cell_type": "code",
   "execution_count": 7,
   "id": "c652864b-ba0c-4925-93cc-f1e3b0e5e96a",
   "metadata": {},
   "outputs": [
    {
     "name": "stdout",
     "output_type": "stream",
     "text": [
      "[5 0 3 3 7 9]\n",
      "[[3 5 2 4]\n",
      " [7 6 8 8]\n",
      " [1 6 7 7]]\n",
      "[[[8 1 5 9 8]\n",
      "  [9 4 3 0 3]\n",
      "  [5 0 2 3 8]\n",
      "  [1 3 3 3 7]]\n",
      "\n",
      " [[0 1 9 9 0]\n",
      "  [4 7 3 2 7]\n",
      "  [2 0 0 4 5]\n",
      "  [5 6 8 4 1]]\n",
      "\n",
      " [[4 9 8 1 1]\n",
      "  [7 9 9 3 6]\n",
      "  [7 2 0 3 5]\n",
      "  [9 4 4 6 4]]]\n"
     ]
    }
   ],
   "source": [
    "# Random number generator\n",
    "\n",
    "np.random.seed(0)\n",
    "arr1= np.random.randint(10,size=6)\n",
    "print(arr1)\n",
    "arr2= np.random.randint(10,size=(3,4))\n",
    "print(arr2)\n",
    "arr3= np.random.randint(10,size=(3,4,5))\n",
    "print(arr3)"
   ]
  },
  {
   "cell_type": "code",
   "execution_count": 12,
   "id": "d2349c14-07ae-4f7e-9f71-87639d6555c5",
   "metadata": {},
   "outputs": [
    {
     "name": "stdout",
     "output_type": "stream",
     "text": [
      "2\n",
      "(3, 4)\n",
      "12\n",
      "int32\n",
      "4\n",
      "48\n"
     ]
    }
   ],
   "source": [
    "# Array Attributes\n",
    "\n",
    "print(arr2.ndim)\n",
    "print(arr2.shape) # 중요\n",
    "print(arr2.size)\n",
    "print(arr2.dtype)\n",
    "print(arr2.itemsize)\n",
    "print(arr2.nbytes)\n"
   ]
  },
  {
   "cell_type": "code",
   "execution_count": 13,
   "id": "6423fcbc-530b-4ce2-95a2-0d12371d3e4d",
   "metadata": {},
   "outputs": [
    {
     "name": "stdout",
     "output_type": "stream",
     "text": [
      "[0 1 2 3 4 5 6 7 8 9]\n",
      "[0 1 2 3 4]\n",
      "[5 6 7 8 9]\n",
      "[0 3 6 9]\n",
      "[2 4 6]\n"
     ]
    }
   ],
   "source": [
    "# Array Slicing \n",
    "\n",
    "arr = np.arange(10)\n",
    "\n",
    "print(arr)\n",
    "print(arr[:5])\n",
    "print(arr[5:])\n",
    "print(arr[::3])\n",
    "print(arr[2:8:2])\n"
   ]
  },
  {
   "cell_type": "code",
   "execution_count": 19,
   "id": "fe97d784-be36-4527-9b83-f37ca1d3a964",
   "metadata": {},
   "outputs": [
    {
     "name": "stdout",
     "output_type": "stream",
     "text": [
      "[[3 3 9 2 5 2 3 5]\n",
      " [7 2 7 1 6 5 0 0]\n",
      " [3 1 9 9 6 6 7 8]\n",
      " [8 7 0 8 6 8 9 8]\n",
      " [3 6 1 7 4 9 2 0]\n",
      " [8 2 7 8 4 4 1 7]]\n",
      "[[6 8 9]\n",
      " [4 9 2]]\n"
     ]
    }
   ],
   "source": [
    "# Multi-dimensional Subarrays\n",
    "\n",
    "arr= np.random.randint(10,size=(6,8))\n",
    "print(arr)\n",
    "\n",
    "arr_sub = arr[3:5,4:7]\n",
    "print(arr_sub)\n"
   ]
  },
  {
   "cell_type": "code",
   "execution_count": 28,
   "id": "7b3bf1f1-182a-408f-a80e-506b86cefd4e",
   "metadata": {},
   "outputs": [
    {
     "name": "stdout",
     "output_type": "stream",
     "text": [
      "[[0 3 0 3]\n",
      " [6 1 9 2]\n",
      " [9 4 9 1]] \n",
      "\n",
      "[[0 3 0 3]\n",
      " [6 1 9 2]\n",
      " [9 4 9 1]] \n",
      "\n",
      "[[0 3 0 3]\n",
      " [6 1 9 2]\n",
      " [9 4 9 1]] \n",
      " [[99  3  0  3]\n",
      " [ 6  1  9  2]\n",
      " [ 9  4  9  1]]\n"
     ]
    }
   ],
   "source": [
    "# Subarrays as no-copy views\n",
    "\n",
    "arr = np.random.randint(10,size=(3,4))\n",
    "print(arr,'\\n')\n",
    "\n",
    "# copy()\n",
    "\n",
    "arr_sub = arr.copy()\n",
    "print(arr_sub,'\\n')\n",
    "\n",
    "arr_sub[0,0]=99\n",
    "print(arr,'\\n', arr_sub)"
   ]
  },
  {
   "cell_type": "code",
   "execution_count": 42,
   "id": "0eae935f-2372-412b-9641-a0bb03a08a62",
   "metadata": {},
   "outputs": [
    {
     "name": "stdout",
     "output_type": "stream",
     "text": [
      "[0 1 2 3 4 5 6 7 8]\n",
      "[[0 1 2]\n",
      " [3 4 5]\n",
      " [6 7 8]]\n",
      "[[0 1 2 3 4 5 6 7 8]]\n",
      "ndim 2\n",
      "ndim (1, 9)\n",
      "[[0]\n",
      " [1]\n",
      " [2]\n",
      " [3]\n",
      " [4]\n",
      " [5]\n",
      " [6]\n",
      " [7]\n",
      " [8]]\n",
      "ndim 2\n",
      "ndim (9, 1)\n"
     ]
    }
   ],
   "source": [
    "# Reshapong of Arrays\n",
    "\n",
    "arr = np.arange(9)\n",
    "print(arr)\n",
    "\n",
    "arr_new = arr.reshape(3,3)\n",
    "print(arr_new)\n",
    "\n",
    "\n",
    "# np.newaxis\n",
    "\n",
    "arr_new_2= arr[np.newaxis,:]\n",
    "print(arr_new_2)\n",
    "print(\"ndim\",arr_new_2.ndim)\n",
    "print(\"ndim\",arr_new_2.shape)\n",
    "arr_new_3= arr[:,np.newaxis,]\n",
    "print(arr_new_3)\n",
    "print(\"ndim\",arr_new_3.ndim)\n",
    "print(\"ndim\",arr_new_3.shape)"
   ]
  },
  {
   "cell_type": "code",
   "execution_count": 51,
   "id": "47d9a77d-3da4-42e1-8c5b-548bfa531004",
   "metadata": {},
   "outputs": [
    {
     "name": "stdout",
     "output_type": "stream",
     "text": [
      "[[2 4 9]\n",
      " [0 6 9]\n",
      " [2 4 7]]\n",
      "[[3 0 5]\n",
      " [4 0 2]\n",
      " [3 1 7]]\n",
      "[[1 3 4]\n",
      " [1 7 4]\n",
      " [0 2 7]]\n",
      "[[2 4 9 3 0 5 1 3 4]\n",
      " [0 6 9 4 0 2 1 7 4]\n",
      " [2 4 7 3 1 7 0 2 7]]\n",
      "[[2 4 9]\n",
      " [0 6 9]\n",
      " [2 4 7]\n",
      " [3 0 5]\n",
      " [4 0 2]\n",
      " [3 1 7]\n",
      " [1 3 4]\n",
      " [1 7 4]\n",
      " [0 2 7]]\n",
      "[[2 4 9 3 0 5 1 3 4]\n",
      " [0 6 9 4 0 2 1 7 4]\n",
      " [2 4 7 3 1 7 0 2 7]]\n"
     ]
    }
   ],
   "source": [
    "# Array Concatenation\n",
    "\n",
    "arr1= np.random.randint(10,size=(3,3))\n",
    "print(arr1)\n",
    "arr2= np.random.randint(10,size=(3,3))\n",
    "print(arr2)\n",
    "arr3= np.random.randint(10,size=(3,3))\n",
    "print(arr3)\n",
    "\n",
    "arr_total = np.concatenate([arr1,arr2,arr3],axis=1)\n",
    "print(arr_total)\n",
    "\n",
    "\n",
    "# vstack 종방향으로 연결\n",
    "\n",
    "arr_total = np.vstack([arr1,arr2,arr3])\n",
    "print(arr_total)\n",
    "\n",
    "\n",
    "# hstack 횡방향으로 연결\n",
    "\n",
    "arr_total = np.hstack([arr1,arr2,arr3])\n",
    "print(arr_total)\n"
   ]
  },
  {
   "cell_type": "code",
   "execution_count": 55,
   "id": "c6f40fc8-3b41-4cb4-8019-8fd8b83dee7d",
   "metadata": {},
   "outputs": [
    {
     "name": "stdout",
     "output_type": "stream",
     "text": [
      "[1, 2, 3, 99, 99, 3, 2, 1] \n",
      "\n",
      "[1 2 3] [99 99] [3 2 1]\n"
     ]
    }
   ],
   "source": [
    "# Array Splitting\n",
    "\n",
    "arr = [1,2,3,99,99,3,2,1]\n",
    "\n",
    "print(arr,'\\n')\n",
    "\n",
    "arr_1,arr_2,arr_3 = np.split(arr,[3,5])\n",
    "print(arr_1,arr_2,arr_3 )\n"
   ]
  },
  {
   "cell_type": "code",
   "execution_count": null,
   "id": "61c18bc0-6215-442c-b1f5-3c612638eaba",
   "metadata": {},
   "outputs": [],
   "source": []
  }
 ],
 "metadata": {
  "kernelspec": {
   "display_name": "Python 3",
   "language": "python",
   "name": "python3"
  },
  "language_info": {
   "codemirror_mode": {
    "name": "ipython",
    "version": 3
   },
   "file_extension": ".py",
   "mimetype": "text/x-python",
   "name": "python",
   "nbconvert_exporter": "python",
   "pygments_lexer": "ipython3",
   "version": "3.8.8"
  }
 },
 "nbformat": 4,
 "nbformat_minor": 5
}
