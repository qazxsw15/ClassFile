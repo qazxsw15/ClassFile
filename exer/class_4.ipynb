{
 "cells": [
  {
   "cell_type": "code",
   "execution_count": 3,
   "id": "f49f040f-0ec4-4274-852b-d9fd2e08169d",
   "metadata": {},
   "outputs": [
    {
     "name": "stdout",
     "output_type": "stream",
     "text": [
      "1\n",
      "2\n",
      "3\n",
      "4\n",
      "5\n",
      "0\n",
      "1\n",
      "2\n",
      "3\n",
      "4\n",
      "5\n",
      "6\n",
      "7\n",
      "8\n",
      "9\n"
     ]
    }
   ],
   "source": [
    "\"\"\"\n",
    "for Loops\n",
    "\"\"\"\n",
    "\n",
    "nums = [1,2,3,4,5]\n",
    "\n",
    "for num in nums :\n",
    "    print(num)\n",
    "\n",
    "#range()\n",
    "\n",
    "for i in range(10):\n",
    "    print(i)"
   ]
  },
  {
   "cell_type": "code",
   "execution_count": 8,
   "id": "e5844e3d-fd9c-4623-bf15-83580ec8908e",
   "metadata": {},
   "outputs": [
    {
     "name": "stdout",
     "output_type": "stream",
     "text": [
      "1\n",
      "2\n",
      "1\n",
      "3\n",
      "5\n",
      "6\n",
      "7\n"
     ]
    }
   ],
   "source": [
    "\"\"\"\n",
    "continue Keyword\n",
    "\"\"\"\n",
    "\n",
    "nums = [1,2,1,-2,3,5,6,7]\n",
    "\n",
    "for num in nums:\n",
    "    #if num is negative, we skip it\n",
    "    if num < 0:\n",
    "        continue\n",
    "    print(num)"
   ]
  },
  {
   "cell_type": "code",
   "execution_count": 10,
   "id": "fd28becb-e46c-4980-acc5-38168e31a1ea",
   "metadata": {},
   "outputs": [
    {
     "name": "stdout",
     "output_type": "stream",
     "text": [
      "stage1 is complete.\n",
      "stage2 is complete.\n",
      "stage3 is complete.\n",
      "Game is Over...\n"
     ]
    }
   ],
   "source": [
    "\"\"\"\n",
    "break Keyword\n",
    "\"\"\"\n",
    "\n",
    "game_plays = ['stage1', 'stage2', 'stage3','gameover', 'stage4', 'stage5']\n",
    "for play in game_plays:\n",
    "    if play == 'gameover':\n",
    "        print(\"Game is Over...\")\n",
    "        break\n",
    "    print(play + \" is complete.\")"
   ]
  },
  {
   "cell_type": "code",
   "execution_count": 27,
   "id": "c525034a-799f-4b43-86a1-7dd5fd4a54ff",
   "metadata": {},
   "outputs": [
    {
     "name": "stdout",
     "output_type": "stream",
     "text": [
      "[3, 4, 5, 6, 7, 8, 9, 10, 11, 12]\n",
      "감독님한테 혼날 사람:\n",
      "['해리 케인', '탕기 은돔벨레']\n"
     ]
    }
   ],
   "source": [
    "\"\"\"\n",
    "List Comprehension\n",
    "\"\"\"\n",
    "\n",
    "one_to_ten = [i +3 for i in range(10)]\n",
    "\n",
    "print(one_to_ten)\n",
    "\n",
    "\n",
    "# 조건\n",
    "\n",
    "hotspurs = [['손흥민', 'A+'], ['해리 케인', 'F'],['탕기 은돔벨레', 'F'], ['델리 알리', 'B'],['루카스 모우라', 'B+'], ['이메르송', 'D']]\n",
    "                                                             \n",
    "poors = [player[0] for player in hotspurs if player[1] == 'F']\n",
    "         \n",
    "print(\"감독님한테 혼날 사람:\")\n",
    "      \n",
    "print(poors)\n"
   ]
  },
  {
   "cell_type": "code",
   "execution_count": 47,
   "id": "12fd3fb6-9937-444e-ba13-3091c4ba7d94",
   "metadata": {},
   "outputs": [
    {
     "name": "stdout",
     "output_type": "stream",
     "text": [
      "2 x 1 = 1\n",
      "2 x 2 = 2\n",
      "2 x 3 = 3\n",
      "2 x 4 = 4\n",
      "2 x 5 = 5\n",
      "2 x 6 = 6\n",
      "2 x 7 = 7\n",
      "2 x 8 = 8\n",
      "2 x 9 = 9\n",
      "3 x 1 = 2\n",
      "3 x 2 = 4\n",
      "3 x 3 = 6\n",
      "3 x 4 = 8\n",
      "3 x 5 = 10\n",
      "3 x 6 = 12\n",
      "3 x 7 = 14\n",
      "3 x 8 = 16\n",
      "3 x 9 = 18\n",
      "4 x 1 = 3\n",
      "4 x 2 = 6\n",
      "4 x 3 = 9\n",
      "4 x 4 = 12\n",
      "4 x 5 = 15\n",
      "4 x 6 = 18\n",
      "4 x 7 = 21\n",
      "4 x 8 = 24\n",
      "4 x 9 = 27\n",
      "5 x 1 = 4\n",
      "5 x 2 = 8\n",
      "5 x 3 = 12\n",
      "5 x 4 = 16\n",
      "5 x 5 = 20\n",
      "5 x 6 = 24\n",
      "5 x 7 = 28\n",
      "5 x 8 = 32\n",
      "5 x 9 = 36\n",
      "6 x 1 = 5\n",
      "6 x 2 = 10\n",
      "6 x 3 = 15\n",
      "6 x 4 = 20\n",
      "6 x 5 = 25\n",
      "6 x 6 = 30\n",
      "6 x 7 = 35\n",
      "6 x 8 = 40\n",
      "6 x 9 = 45\n",
      "7 x 1 = 6\n",
      "7 x 2 = 12\n",
      "7 x 3 = 18\n",
      "7 x 4 = 24\n",
      "7 x 5 = 30\n",
      "7 x 6 = 36\n",
      "7 x 7 = 42\n",
      "7 x 8 = 48\n",
      "7 x 9 = 54\n",
      "8 x 1 = 7\n",
      "8 x 2 = 14\n",
      "8 x 3 = 21\n",
      "8 x 4 = 28\n",
      "8 x 5 = 35\n",
      "8 x 6 = 42\n",
      "8 x 7 = 49\n",
      "8 x 8 = 56\n",
      "8 x 9 = 63\n",
      "9 x 1 = 8\n",
      "9 x 2 = 16\n",
      "9 x 3 = 24\n",
      "9 x 4 = 32\n",
      "9 x 5 = 40\n",
      "9 x 6 = 48\n",
      "9 x 7 = 56\n",
      "9 x 8 = 64\n",
      "9 x 9 = 72\n"
     ]
    }
   ],
   "source": [
    "\"\"\"\n",
    "Nested Loops\n",
    "\"\"\"\n",
    "\n",
    "one_to_nine = [i+1 for i in range(9)]\n",
    "\n",
    "for i in one_to_nine:\n",
    "    for j in one_to_nine:\n",
    "        if i == 9:\n",
    "            break\n",
    "        print(\"%d x %d = %d\" % (i+1 ,j, i*j))\n",
    "        \n",
    "        "
   ]
  },
  {
   "cell_type": "code",
   "execution_count": 55,
   "id": "1699cc43-2131-4ca1-86b4-f14d1fba0280",
   "metadata": {},
   "outputs": [
    {
     "name": "stdout",
     "output_type": "stream",
     "text": [
      "참치김밥냠냠\n",
      "순대냠냠\n",
      "로제떡볶이냠냠\n",
      "김말이냠냠\n",
      "배부르다 여기까지\n"
     ]
    }
   ],
   "source": [
    "\"\"\"\n",
    "while Loops\n",
    "\"\"\"\n",
    "\n",
    "foods_on_table = ['참치김밥', '순대', '로제떡볶이','김말이','오뎅', '단무지', '고로케']\n",
    "foods_num = 7 # 음식 수\n",
    "ate_num = 0 # 먹은 음식 수\n",
    "\n",
    "while ate_num <4:\n",
    "    print(foods_on_table[ate_num] + \"냠냠\")\n",
    "    ate_num += 1\n",
    "    \n",
    "print(\"배부르다 여기까지\")\n",
    "    "
   ]
  },
  {
   "cell_type": "code",
   "execution_count": null,
   "id": "d03b84b5-1732-4de1-a1db-f70734c5920e",
   "metadata": {},
   "outputs": [],
   "source": [
    "\"\"\"\n",
    "Infinite Loop\n",
    "\"\"\"\n",
    "\n",
    "\"\"\"\n",
    "x = 1\n",
    "y = 1       \n",
    "while x < 5:\n",
    "    print(\"Do Something\")\n",
    "    y += 1 \n",
    "if y > 5:\n",
    "    print(\"Why doesn't it end?\")\n",
    "\"\"\""
   ]
  },
  {
   "cell_type": "code",
   "execution_count": null,
   "id": "71cc1c7f-6bdc-4654-8f46-9957e3cda92b",
   "metadata": {},
   "outputs": [],
   "source": [
    " "
   ]
  },
  {
   "cell_type": "code",
   "execution_count": null,
   "id": "abfe3b7d-389d-4c22-aeb0-f07136e59e66",
   "metadata": {},
   "outputs": [],
   "source": []
  },
  {
   "cell_type": "code",
   "execution_count": null,
   "id": "c9f34b50-8b13-4557-999f-36840808b4c9",
   "metadata": {},
   "outputs": [],
   "source": []
  },
  {
   "cell_type": "code",
   "execution_count": null,
   "id": "8faa15aa-3d3e-4834-b0cd-9c9378c36500",
   "metadata": {},
   "outputs": [],
   "source": []
  }
 ],
 "metadata": {
  "kernelspec": {
   "display_name": "Python 3",
   "language": "python",
   "name": "python3"
  },
  "language_info": {
   "codemirror_mode": {
    "name": "ipython",
    "version": 3
   },
   "file_extension": ".py",
   "mimetype": "text/x-python",
   "name": "python",
   "nbconvert_exporter": "python",
   "pygments_lexer": "ipython3",
   "version": "3.8.8"
  }
 },
 "nbformat": 4,
 "nbformat_minor": 5
}
