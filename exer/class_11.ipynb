{
 "cells": [
  {
   "cell_type": "code",
   "execution_count": 2,
   "id": "17ee5210-579c-4482-a05f-dd832f500846",
   "metadata": {},
   "outputs": [],
   "source": [
    "import numpy as np \n",
    "import pandas as pd\n",
    "from matplotlib import pyplot as plt"
   ]
  },
  {
   "cell_type": "code",
   "execution_count": 3,
   "id": "c336cd9f-0e06-45b2-bff5-e6d19dc38842",
   "metadata": {},
   "outputs": [
    {
     "name": "stdout",
     "output_type": "stream",
     "text": [
      "[[1 2 3]\n",
      " [4 5 6]\n",
      " [7 8 9]]\n"
     ]
    }
   ],
   "source": [
    "\"\"\"\n",
    "numpy.concatenate\n",
    "\"\"\"\n",
    "\n",
    "x = [1,2,3]\n",
    "\n",
    "y = [4,5,6]\n",
    "\n",
    "z = [7,8,9]\n",
    "\n",
    "np.concatenate([x,y,z])\n",
    "\n",
    "# vstack() :  concatenate vertically\n",
    "\n",
    "# hstack() :  concatenate \n",
    "\n",
    "print(np.vstack([x,y,z]))"
   ]
  },
  {
   "cell_type": "code",
   "execution_count": 26,
   "id": "90095047-5e3b-4229-ba5c-7e5c305b458f",
   "metadata": {},
   "outputs": [
    {
     "data": {
      "text/plain": [
       "1    A\n",
       "2    B\n",
       "3    c\n",
       "1    A\n",
       "2    B\n",
       "3    c\n",
       "4    D\n",
       "5    E\n",
       "6    F\n",
       "dtype: object"
      ]
     },
     "execution_count": 26,
     "metadata": {},
     "output_type": "execute_result"
    }
   ],
   "source": [
    "\"\"\"\n",
    "    pandas.concat()\n",
    "\"\"\"\n",
    "\n",
    "ser1 = pd.Series([\"A\",'B',\"c\"], index = [1,2,3])\n",
    "\n",
    "ser2 = pd.Series([\"D\",'E',\"F\"], index = [4,5,6])\n",
    "\n",
    "pd.concat([ser1,ser1,ser2])\n",
    "\n",
    "# simply concatenate the two Series objects\n"
   ]
  },
  {
   "cell_type": "code",
   "execution_count": 27,
   "id": "36ef4c12-a1f1-4d32-8af4-585d640342a0",
   "metadata": {},
   "outputs": [
    {
     "name": "stdout",
     "output_type": "stream",
     "text": [
      "    A   B   C\n",
      "1  A1  B1  C1\n",
      "2  A2  B2  C2\n"
     ]
    }
   ],
   "source": [
    "#make_df(): crate a DataFrame object\n",
    "def make_df(cols, ind):\n",
    "    data = {c: [str(c) +  str(i) for i in ind]\n",
    "           for c in cols}\n",
    "    return pd.DataFrame(data, ind)\n",
    "\n",
    "print(make_df('ABC', [1,2]))"
   ]
  },
  {
   "cell_type": "code",
   "execution_count": 28,
   "id": "1aebcd76-14b2-4435-b74b-26097b1da1e5",
   "metadata": {},
   "outputs": [
    {
     "name": "stdout",
     "output_type": "stream",
     "text": [
      "    A   B\n",
      "1  A1  B1\n",
      "2  A2  B2 \n",
      "\n",
      "    A   B\n",
      "3  A3  B3\n",
      "4  A4  B4 \n",
      "\n"
     ]
    },
    {
     "data": {
      "text/html": [
       "<div>\n",
       "<style scoped>\n",
       "    .dataframe tbody tr th:only-of-type {\n",
       "        vertical-align: middle;\n",
       "    }\n",
       "\n",
       "    .dataframe tbody tr th {\n",
       "        vertical-align: top;\n",
       "    }\n",
       "\n",
       "    .dataframe thead th {\n",
       "        text-align: right;\n",
       "    }\n",
       "</style>\n",
       "<table border=\"1\" class=\"dataframe\">\n",
       "  <thead>\n",
       "    <tr style=\"text-align: right;\">\n",
       "      <th></th>\n",
       "      <th>A</th>\n",
       "      <th>B</th>\n",
       "    </tr>\n",
       "  </thead>\n",
       "  <tbody>\n",
       "    <tr>\n",
       "      <th>1</th>\n",
       "      <td>A1</td>\n",
       "      <td>B1</td>\n",
       "    </tr>\n",
       "    <tr>\n",
       "      <th>2</th>\n",
       "      <td>A2</td>\n",
       "      <td>B2</td>\n",
       "    </tr>\n",
       "    <tr>\n",
       "      <th>3</th>\n",
       "      <td>A3</td>\n",
       "      <td>B3</td>\n",
       "    </tr>\n",
       "    <tr>\n",
       "      <th>4</th>\n",
       "      <td>A4</td>\n",
       "      <td>B4</td>\n",
       "    </tr>\n",
       "  </tbody>\n",
       "</table>\n",
       "</div>"
      ],
      "text/plain": [
       "    A   B\n",
       "1  A1  B1\n",
       "2  A2  B2\n",
       "3  A3  B3\n",
       "4  A4  B4"
      ]
     },
     "execution_count": 28,
     "metadata": {},
     "output_type": "execute_result"
    }
   ],
   "source": [
    "# Concatenate the two DataFrame\n",
    "df1 = make_df ('AB',[1,2])\n",
    "df2 = make_df ('AB',[3,4])\n",
    "\n",
    "print(df1,\"\\n\")\n",
    "print(df2,\"\\n\")\n",
    "\n",
    "pd.concat([df1,df2])"
   ]
  },
  {
   "cell_type": "code",
   "execution_count": 29,
   "id": "bbfd246e-b11c-4583-a680-ff6ad3c62928",
   "metadata": {},
   "outputs": [
    {
     "name": "stdout",
     "output_type": "stream",
     "text": [
      "    A   B\n",
      "0  A0  B0\n",
      "1  A1  B1 \n",
      "\n",
      "    C   D\n",
      "0  C0  D0\n",
      "1  C1  D1 \n",
      "\n",
      "     A    B    C    D\n",
      "0   A0   B0  NaN  NaN\n",
      "1   A1   B1  NaN  NaN\n",
      "0  NaN  NaN   C0   D0\n",
      "1  NaN  NaN   C1   D1\n"
     ]
    }
   ],
   "source": [
    "df3 = make_df('AB',[0,1])\n",
    "df4 = make_df('CD',[0,1])\n",
    "\n",
    "print(df3,'\\n')\n",
    "print(df4,'\\n')\n",
    "\n",
    "print(pd.concat([df3,df4],axis=0))"
   ]
  },
  {
   "cell_type": "code",
   "execution_count": 30,
   "id": "c08d247a-5582-4249-9354-25d877efda30",
   "metadata": {},
   "outputs": [
    {
     "name": "stdout",
     "output_type": "stream",
     "text": [
      "    A   B\n",
      "0  A0  B0\n",
      "1  A1  B1 \n",
      "\n",
      "    A   B\n",
      "0  A2  B2\n",
      "1  A3  B3 \n",
      "\n",
      "    A   B\n",
      "0  A0  B0\n",
      "1  A1  B1\n",
      "0  A2  B2\n",
      "1  A3  B3\n"
     ]
    }
   ],
   "source": [
    "\"\"\"\n",
    "concate() Features\n",
    "\"\"\"\n",
    "\n",
    "# Case 1 : Duplicate indices\n",
    "\n",
    "x= make_df('AB',[0,1])\n",
    "y= make_df('AB',[2,3])\n",
    "\n",
    "y.index = x.index\n",
    "\n",
    "print(x,'\\n')\n",
    "print(y,'\\n')\n",
    "\n",
    "print(pd.concat([x,y]))"
   ]
  },
  {
   "cell_type": "code",
   "execution_count": 31,
   "id": "6dcffbb5-0273-41ad-9db1-3feb57341659",
   "metadata": {},
   "outputs": [
    {
     "name": "stdout",
     "output_type": "stream",
     "text": [
      "ValueError:  Indexes have overlapping values: Int64Index([0, 1], dtype='int64')\n"
     ]
    }
   ],
   "source": [
    "# Case 2 : catching duplications as errors\n",
    "try:\n",
    "    pd.concat([x,y], verify_integrity = True)\n",
    "    \n",
    "except ValueError as e:\n",
    "        print(\"ValueError: \", e)"
   ]
  },
  {
   "cell_type": "code",
   "execution_count": 32,
   "id": "8bf436ba-5e01-49dc-b01c-99bb3df49be3",
   "metadata": {},
   "outputs": [
    {
     "name": "stdout",
     "output_type": "stream",
     "text": [
      "    A   B\n",
      "0  A0  B0\n",
      "1  A1  B1\n",
      "2  A2  B2\n",
      "3  A3  B3\n"
     ]
    }
   ],
   "source": [
    "# Case 3 : Ignore the index\n",
    "\n",
    "print(pd.concat([x,y], ignore_index=True))"
   ]
  },
  {
   "cell_type": "code",
   "execution_count": 33,
   "id": "3bdb9be9-37ba-4d07-a15a-6c35863268e3",
   "metadata": {},
   "outputs": [],
   "source": [
    "# Case 4 : Adding multiindex keys (hierarchical indexing)"
   ]
  },
  {
   "cell_type": "code",
   "execution_count": 36,
   "id": "d5a17dec-cd81-4015-a088-4758af8a08d6",
   "metadata": {},
   "outputs": [
    {
     "name": "stdout",
     "output_type": "stream",
     "text": [
      "    A   B   C\n",
      "1  A1  B1  C1\n",
      "2  A2  B2  C2 \n",
      " \n",
      "    B   C   D\n",
      "3  B3  C3  D3\n",
      "4  B4  C4  D4 \n",
      "\n",
      "    B   C\n",
      "1  B1  C1\n",
      "2  B2  C2\n",
      "3  B3  C3\n",
      "4  B4  C4\n"
     ]
    }
   ],
   "source": [
    "\"\"\"\n",
    "    concat(): join options\n",
    "\"\"\"\n",
    "\n",
    "x = make_df('ABC', [1,2])\n",
    "y = make_df('BCD', [3,4])\n",
    "\n",
    "# default : outer join -> union\n",
    "\n",
    "print(x, \"\\n \")\n",
    "print(y, \"\\n\")\n",
    "\n",
    "print(pd.concat([x,y], join = 'inner'))"
   ]
  },
  {
   "cell_type": "code",
   "execution_count": 39,
   "id": "0877c05a-6bb1-4a63-9f4d-dbbd2972c2a6",
   "metadata": {},
   "outputs": [
    {
     "name": "stdout",
     "output_type": "stream",
     "text": [
      "  employee         group\n",
      "0      Bpb   Accountiong\n",
      "1     Jake   Engineering\n",
      "2     Lisa  Emgineereing\n",
      "3      Sue            HR \n",
      "\n",
      "  employee  hire_data\n",
      "0      Bpb       2004\n",
      "1     Jake       2008\n",
      "2     Lisa       2012\n",
      "3      Sue       2014\n"
     ]
    }
   ],
   "source": [
    "\"\"\"\n",
    "    Join operations\n",
    "\"\"\"\n",
    "\n",
    "# Prepare the two DataFrame objacts\n",
    "\n",
    "df1 = pd.DataFrame({'employee': ['Bpb','Jake','Lisa', 'Sue'],\n",
    "                   'group' : ['Accountiong', 'Engineering', 'Emgineereing', 'HR']})\n",
    "\n",
    "df2 = pd.DataFrame({'employee': ['Bpb','Jake','Lisa', 'Sue'],\n",
    "                   'hire_data' : [2004,2008,2012,2014]})\n",
    "                    \n",
    "print(df1,'\\n')\n",
    "print(df2)"
   ]
  },
  {
   "cell_type": "code",
   "execution_count": 45,
   "id": "22dbe154-741e-489d-ad68-25f794f210c8",
   "metadata": {},
   "outputs": [
    {
     "name": "stdout",
     "output_type": "stream",
     "text": [
      "  employee         group  hire_data\n",
      "0      Bpb   Accountiong       2004\n",
      "1     Jake   Engineering       2008\n",
      "2     Lisa  Emgineereing       2012\n",
      "3      Sue            HR       2014\n"
     ]
    }
   ],
   "source": [
    "# One - to - one joins\n",
    "\n",
    "df3 = pd.merge(df1, df2)\n",
    "\n",
    "print(df3)"
   ]
  },
  {
   "cell_type": "code",
   "execution_count": 49,
   "id": "b500b713-70d6-4f6c-936a-b5bd9bbeb3ad",
   "metadata": {},
   "outputs": [
    {
     "name": "stdout",
     "output_type": "stream",
     "text": [
      "  employee         group  hire_data\n",
      "0      Bpb   Accountiong       2004\n",
      "1     Jake   Engineering       2008\n",
      "2     Lisa  Emgineereing       2012\n",
      "3      Sue            HR       2014 \n",
      "\n",
      "         group supervisor\n",
      "0  Accountiong      Carly\n",
      "1  Engineering      Guido\n",
      "2           HR      Steve \n",
      "\n"
     ]
    },
    {
     "data": {
      "text/html": [
       "<div>\n",
       "<style scoped>\n",
       "    .dataframe tbody tr th:only-of-type {\n",
       "        vertical-align: middle;\n",
       "    }\n",
       "\n",
       "    .dataframe tbody tr th {\n",
       "        vertical-align: top;\n",
       "    }\n",
       "\n",
       "    .dataframe thead th {\n",
       "        text-align: right;\n",
       "    }\n",
       "</style>\n",
       "<table border=\"1\" class=\"dataframe\">\n",
       "  <thead>\n",
       "    <tr style=\"text-align: right;\">\n",
       "      <th></th>\n",
       "      <th>employee</th>\n",
       "      <th>group</th>\n",
       "      <th>hire_data</th>\n",
       "      <th>supervisor</th>\n",
       "    </tr>\n",
       "  </thead>\n",
       "  <tbody>\n",
       "    <tr>\n",
       "      <th>0</th>\n",
       "      <td>Bpb</td>\n",
       "      <td>Accountiong</td>\n",
       "      <td>2004</td>\n",
       "      <td>Carly</td>\n",
       "    </tr>\n",
       "    <tr>\n",
       "      <th>1</th>\n",
       "      <td>Jake</td>\n",
       "      <td>Engineering</td>\n",
       "      <td>2008</td>\n",
       "      <td>Guido</td>\n",
       "    </tr>\n",
       "    <tr>\n",
       "      <th>2</th>\n",
       "      <td>Sue</td>\n",
       "      <td>HR</td>\n",
       "      <td>2014</td>\n",
       "      <td>Steve</td>\n",
       "    </tr>\n",
       "  </tbody>\n",
       "</table>\n",
       "</div>"
      ],
      "text/plain": [
       "  employee        group  hire_data supervisor\n",
       "0      Bpb  Accountiong       2004      Carly\n",
       "1     Jake  Engineering       2008      Guido\n",
       "2      Sue           HR       2014      Steve"
      ]
     },
     "execution_count": 49,
     "metadata": {},
     "output_type": "execute_result"
    }
   ],
   "source": [
    "# Many - to - one joins\n",
    "\n",
    "df4 = pd.DataFrame({'group' : ['Accountiong', 'Engineering', 'HR'],\n",
    "                    'supervisor' : ['Carly','Guido', 'Steve']})\n",
    "\n",
    "print(df3,'\\n')\n",
    "print(df4,'\\n')\n",
    "\n",
    "pd.merge(df3,df4)   # df3 = left, df4 = right "
   ]
  },
  {
   "cell_type": "code",
   "execution_count": 52,
   "id": "ea6da635-42de-4d09-a10a-feec0403263c",
   "metadata": {},
   "outputs": [
    {
     "name": "stdout",
     "output_type": "stream",
     "text": [
      "  employee         group\n",
      "0      Bpb   Accountiong\n",
      "1     Jake   Engineering\n",
      "2     Lisa  Emgineereing\n",
      "3      Sue            HR \n",
      "\n",
      "         group         skills\n",
      "0  Accountiong          math,\n",
      "1  Accountiong   spreadsheets\n",
      "2  Engineering         coding\n",
      "3  Engineering          linux\n",
      "4           HR   spreadsheets\n",
      "5           HR  organizationg \n",
      "\n",
      "  employee        group         skills\n",
      "0      Bpb  Accountiong          math,\n",
      "1      Bpb  Accountiong   spreadsheets\n",
      "2     Jake  Engineering         coding\n",
      "3     Jake  Engineering          linux\n",
      "4      Sue           HR   spreadsheets\n",
      "5      Sue           HR  organizationg\n"
     ]
    }
   ],
   "source": [
    "# Many - to - many joins\n",
    "\n",
    "df5 = pd.DataFrame({'group' : [ 'Accountiong', 'Accountiong',\n",
    "                              'Engineering', 'Engineering',\n",
    "                              'HR', 'HR'],\n",
    "                   'skills' : ['math,', 'spreadsheets', 'coding',\n",
    "                              'linux', ' spreadsheets', 'organizationg']})\n",
    "\n",
    "print(df1, '\\n')\n",
    "print(df5, '\\n')\n",
    "\n",
    "print(pd.merge(df1,df5))"
   ]
  },
  {
   "cell_type": "code",
   "execution_count": 57,
   "id": "0f850f8c-2868-4a13-9261-5b7fd99296e2",
   "metadata": {},
   "outputs": [
    {
     "name": "stdout",
     "output_type": "stream",
     "text": [
      "  employee         group  age\n",
      "0      Bpb   Accountiong   20\n",
      "1     Jake   Engineering   42\n",
      "2     Lisa  Emgineereing   37\n",
      "3      Sue            HR   25 \n",
      "\n",
      "  employee  hire_data  age\n",
      "0      Bpb       2004   37\n",
      "1     Jake       2008   20\n",
      "2     Lisa       2012   42\n",
      "3      Sue       2014   25 \n",
      "\n",
      "  employee         group  age\n",
      "0      Bpb   Accountiong   20\n",
      "1     Jake   Engineering   42\n",
      "2     Lisa  Emgineereing   37\n",
      "3      Sue            HR   25 \n",
      "\n",
      "  employee  hire_data  age\n",
      "0      Bpb       2004   37\n",
      "1     Jake       2008   20\n",
      "2     Lisa       2012   42\n",
      "3      Sue       2014   25 \n",
      "\n"
     ]
    },
    {
     "data": {
      "text/html": [
       "<div>\n",
       "<style scoped>\n",
       "    .dataframe tbody tr th:only-of-type {\n",
       "        vertical-align: middle;\n",
       "    }\n",
       "\n",
       "    .dataframe tbody tr th {\n",
       "        vertical-align: top;\n",
       "    }\n",
       "\n",
       "    .dataframe thead th {\n",
       "        text-align: right;\n",
       "    }\n",
       "</style>\n",
       "<table border=\"1\" class=\"dataframe\">\n",
       "  <thead>\n",
       "    <tr style=\"text-align: right;\">\n",
       "      <th></th>\n",
       "      <th>employee</th>\n",
       "      <th>group</th>\n",
       "      <th>age_x</th>\n",
       "      <th>hire_data</th>\n",
       "      <th>age_y</th>\n",
       "    </tr>\n",
       "  </thead>\n",
       "  <tbody>\n",
       "    <tr>\n",
       "      <th>0</th>\n",
       "      <td>Bpb</td>\n",
       "      <td>Accountiong</td>\n",
       "      <td>20</td>\n",
       "      <td>2004</td>\n",
       "      <td>37</td>\n",
       "    </tr>\n",
       "    <tr>\n",
       "      <th>1</th>\n",
       "      <td>Jake</td>\n",
       "      <td>Engineering</td>\n",
       "      <td>42</td>\n",
       "      <td>2008</td>\n",
       "      <td>20</td>\n",
       "    </tr>\n",
       "    <tr>\n",
       "      <th>2</th>\n",
       "      <td>Lisa</td>\n",
       "      <td>Emgineereing</td>\n",
       "      <td>37</td>\n",
       "      <td>2012</td>\n",
       "      <td>42</td>\n",
       "    </tr>\n",
       "    <tr>\n",
       "      <th>3</th>\n",
       "      <td>Sue</td>\n",
       "      <td>HR</td>\n",
       "      <td>25</td>\n",
       "      <td>2014</td>\n",
       "      <td>25</td>\n",
       "    </tr>\n",
       "  </tbody>\n",
       "</table>\n",
       "</div>"
      ],
      "text/plain": [
       "  employee         group  age_x  hire_data  age_y\n",
       "0      Bpb   Accountiong     20       2004     37\n",
       "1     Jake   Engineering     42       2008     20\n",
       "2     Lisa  Emgineereing     37       2012     42\n",
       "3      Sue            HR     25       2014     25"
      ]
     },
     "execution_count": 57,
     "metadata": {},
     "output_type": "execute_result"
    }
   ],
   "source": [
    "\"\"\"\n",
    "    Specifying the merge Key\n",
    "\"\"\"\n",
    "\n",
    "# 'on' argument : use a common column as merge key\n",
    "\n",
    "print(df1,'\\n')\n",
    "\n",
    "print(df2,'\\n')\n",
    "\n",
    "df1['age'] = pd.Series([20,42,37,25])\n",
    "df2['age'] = pd.Series([37,20,42,25])\n",
    "\n",
    "print(df1,'\\n')\n",
    "\n",
    "print(df2,'\\n')\n",
    "\n",
    "pd.merge(df1,df2,on = 'employee')"
   ]
  },
  {
   "cell_type": "code",
   "execution_count": 63,
   "id": "8af301e8-d15a-4d3f-924a-d5641b0483e5",
   "metadata": {},
   "outputs": [
    {
     "name": "stdout",
     "output_type": "stream",
     "text": [
      "  employee         group  age\n",
      "0      Bpb   Accountiong   20\n",
      "1     Jake   Engineering   42\n",
      "2     Lisa  Emgineereing   37\n",
      "3      Sue            HR   25 \n",
      "\n",
      "   name  salary\n",
      "0   Bob   70000\n",
      "1  jake   80000\n",
      "2  Lisa  120000\n",
      "3   Sue   90000 \n",
      "\n",
      "  employee         group  age  name  salary\n",
      "0     Lisa  Emgineereing   37  Lisa  120000\n",
      "1      Sue            HR   25   Sue   90000\n"
     ]
    }
   ],
   "source": [
    "# 'Left _on' and 'right_on' arguments:\n",
    "\n",
    "df3 = pd.DataFrame({'name' :  ['Bob', 'jake', 'Lisa', \"Sue\"],\n",
    "                    'salary' : [70000,80000,120000,90000]})\n",
    "\n",
    "print(df1,'\\n')\n",
    "print(df3,'\\n')\n",
    "\n",
    "print(pd.merge(df1,df3,left_on = 'employee', right_on = 'name'))"
   ]
  },
  {
   "cell_type": "code",
   "execution_count": 70,
   "id": "b0c60ad3-98c6-4256-b0e4-48be1d90f22c",
   "metadata": {},
   "outputs": [
    {
     "name": "stdout",
     "output_type": "stream",
     "text": [
      "  employee         group  age\n",
      "0      Bpb   Accountiong   20\n",
      "1     Jake   Engineering   42\n",
      "2     Lisa  Emgineereing   37\n",
      "3      Sue            HR   25 \n",
      "\n",
      "  employee  hire_data  age\n",
      "0      Bpb       2004   37\n",
      "1     Jake       2008   20\n",
      "2     Lisa       2012   42\n",
      "3      Sue       2014   25 \n",
      "\n",
      "                 group  age\n",
      "employee                   \n",
      "Bpb        Accountiong   20\n",
      "Jake       Engineering   42\n",
      "Lisa      Emgineereing   37\n",
      "Sue                 HR   25 \n",
      "\n",
      "          hire_data  age\n",
      "employee                \n",
      "Bpb            2004   37\n",
      "Jake           2008   20\n",
      "Lisa           2012   42\n",
      "Sue            2014   25 \n",
      "\n",
      "                 group  age_x  hire_data  age_y\n",
      "employee                                       \n",
      "Bpb        Accountiong     20       2004     37\n",
      "Jake       Engineering     42       2008     20\n",
      "Lisa      Emgineereing     37       2012     42\n",
      "Sue                 HR     25       2014     25\n"
     ]
    }
   ],
   "source": [
    "print(df1,'\\n')\n",
    "print(df2,'\\n')\n",
    "\n",
    "df1a = df1.set_index('employee')\n",
    "df2a = df2.set_index('employee')\n",
    "\n",
    "print(df1a,'\\n')\n",
    "print(df2a,'\\n')\n",
    "\n",
    "\n",
    "print(pd.merge(df1a,df2a, left_index = True, right_index = True) )"
   ]
  },
  {
   "cell_type": "code",
   "execution_count": null,
   "id": "139da553-63b2-413b-8006-bfd27178660b",
   "metadata": {},
   "outputs": [],
   "source": []
  }
 ],
 "metadata": {
  "kernelspec": {
   "display_name": "Python 3",
   "language": "python",
   "name": "python3"
  },
  "language_info": {
   "codemirror_mode": {
    "name": "ipython",
    "version": 3
   },
   "file_extension": ".py",
   "mimetype": "text/x-python",
   "name": "python",
   "nbconvert_exporter": "python",
   "pygments_lexer": "ipython3",
   "version": "3.8.8"
  }
 },
 "nbformat": 4,
 "nbformat_minor": 5
}
