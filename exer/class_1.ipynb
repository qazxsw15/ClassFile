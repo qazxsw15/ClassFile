{
 "cells": [
  {
   "cell_type": "code",
   "execution_count": 7,
   "id": "2342bd29-5cd1-4342-be4b-f8d4f9a5afb1",
   "metadata": {},
   "outputs": [
    {
     "name": "stdout",
     "output_type": "stream",
     "text": [
      "hello world\n",
      "100\n",
      "3.14\n",
      "my name is tea hyoung!\n"
     ]
    },
    {
     "data": {
      "text/plain": [
       "'쉬프트 엔터 : 새로운 셀'"
      ]
     },
     "execution_count": 7,
     "metadata": {},
     "output_type": "execute_result"
    }
   ],
   "source": [
    "\"\"\"\n",
    "print() function\n",
    "컨트롤 + 엔터가 실행\n",
    "\"\"\"\n",
    "\n",
    "\n",
    "print(\"hello world\")\n",
    "print(100)\n",
    "pi = 3.14\n",
    "print(pi)\n",
    "\n",
    "intro = \"my name is\"\n",
    "name =  \" tea hyoung\"\n",
    "print(intro + name +\"!\")\n",
    "\n",
    "\n",
    "\"\"\"쉬프트 엔터 : 새로운 셀\"\"\""
   ]
  },
  {
   "cell_type": "code",
   "execution_count": 2,
   "id": "fdcf3669-67d2-40f4-a0d1-9d5840b0e133",
   "metadata": {},
   "outputs": [
    {
     "name": "stdout",
     "output_type": "stream",
     "text": [
      "이름 : 김태형\n",
      "키 : 173\n",
      "취미 : 피아노\n",
      "학번 : 201855065\n"
     ]
    }
   ],
   "source": [
    "\"\"\"나를 표현 가능한 정보 세가지 이상 변수 설정\"\"\"\n",
    "\n",
    "name = \"김태형\"\n",
    "toll = \"173\"\n",
    "hobby = \"피아노\"\n",
    "student_number = \"201855065\"\n",
    "\n",
    "print(\"이름 : \" + name + \"\\n키 : \" + toll + \"\\n취미 : \" + hobby + \"\\n학번 : \" + student_number )"
   ]
  },
  {
   "cell_type": "code",
   "execution_count": 2,
   "id": "64de9d27-d75b-44f3-8691-5332e722ae0b",
   "metadata": {},
   "outputs": [
    {
     "name": "stdout",
     "output_type": "stream",
     "text": [
      "4.45\n",
      "2.54\n",
      "172.8\n"
     ]
    }
   ],
   "source": [
    "\"\"\"\n",
    "Data type : integers\n",
    "\"\"\"\n",
    "#집에 있는 사물의 개수를 세가지 이상을 정수 변수로 표현하시오.\n",
    "\n",
    "instrument = 3\n",
    "speaker = 6 \n",
    "keyboard = 4\n",
    "broken_chairs = -2\n",
    "\n",
    "\"\"\"\n",
    "Data type : real Numbers\n",
    "\"\"\"\n",
    "\n",
    "#본인이 알고 있는 세 개의 실수를 변수로 정의하시오\n",
    "\n",
    "cpu_clock = 4.45\n",
    "inch = 2.54\n",
    "my_height = 172.8\n",
    "print(cpu_clock)\n",
    "print(inch)\n",
    "print(my_height)\n"
   ]
  },
  {
   "cell_type": "code",
   "execution_count": 4,
   "id": "28120ff9-05ce-4e1d-882d-44411d0e8bb2",
   "metadata": {},
   "outputs": [
    {
     "name": "stdout",
     "output_type": "stream",
     "text": [
      "나에게 떳떳해야 남에게도 떳떳할 수 있다.\n",
      "Battle Grounds\n",
      "jazz\n"
     ]
    }
   ],
   "source": [
    "\"\"\"\n",
    "Data Types : Strings\n",
    "\"\"\" \n",
    " # 본인이 좋아하는 세가지를 문자열로 정의\n",
    "    \n",
    "favorite_motto = \"나에게 떳떳해야 남에게도 떳떳할 수 있다.\"\n",
    "favorite_game = \"Battle Grounds\"\n",
    "favorite_music = \"jazz\"\n",
    "\n",
    "print(favorite_motto)\n",
    "print(favorite_game)\n",
    "print(favorite_music)"
   ]
  },
  {
   "cell_type": "code",
   "execution_count": 13,
   "id": "a950786d-9475-451b-85b2-2c2a2f58970f",
   "metadata": {},
   "outputs": [
    {
     "name": "stdout",
     "output_type": "stream",
     "text": [
      "4\n",
      "0\n",
      "4\n",
      "32\n"
     ]
    }
   ],
   "source": [
    "\"\"\"\n",
    "x-Equals Operations\n",
    "\"\"\"\n",
    "\n",
    "a=2\n",
    "a+=2\n",
    "print(a)\n",
    "\n",
    "a=2\n",
    "a-=2\n",
    "print(a)\n",
    "\n",
    "a=2\n",
    "a*=2\n",
    "print(a)\n",
    "\n",
    "a=2\n",
    "a**=5\n",
    "print(a)\n",
    "\n"
   ]
  },
  {
   "cell_type": "code",
   "execution_count": 14,
   "id": "f75f2dbb-9e7e-4455-9afb-6da8ed833abd",
   "metadata": {},
   "outputs": [
    {
     "ename": "NameError",
     "evalue": "name 'my_name' is not defined",
     "output_type": "error",
     "traceback": [
      "\u001b[1;31m---------------------------------------------------------------------------\u001b[0m",
      "\u001b[1;31mNameError\u001b[0m                                 Traceback (most recent call last)",
      "\u001b[1;32m<ipython-input-14-9db2e507d3a8>\u001b[0m in \u001b[0;36m<module>\u001b[1;34m\u001b[0m\n\u001b[0;32m      5\u001b[0m \u001b[1;31m# Name Erorr\u001b[0m\u001b[1;33m\u001b[0m\u001b[1;33m\u001b[0m\u001b[1;33m\u001b[0m\u001b[0m\n\u001b[0;32m      6\u001b[0m \u001b[1;33m\u001b[0m\u001b[0m\n\u001b[1;32m----> 7\u001b[1;33m \u001b[0mprint\u001b[0m\u001b[1;33m(\u001b[0m\u001b[0mmy_name\u001b[0m\u001b[1;33m)\u001b[0m\u001b[1;33m\u001b[0m\u001b[1;33m\u001b[0m\u001b[0m\n\u001b[0m\u001b[0;32m      8\u001b[0m \u001b[0mmy_name\u001b[0m \u001b[1;33m=\u001b[0m \u001b[1;34m\"김태형\"\u001b[0m\u001b[1;33m\u001b[0m\u001b[1;33m\u001b[0m\u001b[0m\n",
      "\u001b[1;31mNameError\u001b[0m: name 'my_name' is not defined"
     ]
    }
   ],
   "source": [
    "\n",
    "\"\"\"\n",
    "Error\n",
    "\"\"\"\n",
    "\n",
    "# Name Erorr\n",
    "\n",
    "print(my_name)\n",
    "my_name = \"김태형\""
   ]
  },
  {
   "cell_type": "markdown",
   "id": "dcae0535-7d28-4fdf-be27-fd00bae9ecb7",
   "metadata": {},
   "source": [
    "# Practice 1\n",
    "아래 코드들은 무엇을 하는 코드입니다."
   ]
  },
  {
   "cell_type": "code",
   "execution_count": null,
   "id": "dd3adacc-377a-4f51-b8e1-12bdb55754c2",
   "metadata": {},
   "outputs": [],
   "source": []
  }
 ],
 "metadata": {
  "kernelspec": {
   "display_name": "Python 3",
   "language": "python",
   "name": "python3"
  },
  "language_info": {
   "codemirror_mode": {
    "name": "ipython",
    "version": 3
   },
   "file_extension": ".py",
   "mimetype": "text/x-python",
   "name": "python",
   "nbconvert_exporter": "python",
   "pygments_lexer": "ipython3",
   "version": "3.8.8"
  }
 },
 "nbformat": 4,
 "nbformat_minor": 5
}
