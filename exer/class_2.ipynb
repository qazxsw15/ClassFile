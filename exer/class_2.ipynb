{
 "cells": [
  {
   "cell_type": "code",
   "execution_count": 8,
   "id": "4e63e22f-eb1c-4ed0-8588-7785bb475742",
   "metadata": {},
   "outputs": [
    {
     "name": "stdout",
     "output_type": "stream",
     "text": [
      "<class 'bool'>\n",
      "<class 'int'>\n"
     ]
    }
   ],
   "source": [
    "\"\"\"\n",
    "boolean variables\n",
    "\"\"\"\n",
    "\n",
    "is_tested = False\n",
    "print(type(is_tested))\n",
    "\n",
    "a= 3\n",
    "print(type(a))\n",
    "\n"
   ]
  },
  {
   "cell_type": "code",
   "execution_count": 33,
   "id": "46858789-3b80-4e14-8cc3-33e1e7c8cdd5",
   "metadata": {},
   "outputs": [
    {
     "name": "stdout",
     "output_type": "stream",
     "text": [
      "말티푸\n"
     ]
    }
   ],
   "source": [
    "\"\"\"\n",
    "Conditional statements(if / elif /else)\n",
    "\"\"\"\n",
    "\n",
    "puppy = \"maltepoo\"\n",
    "age =1\n",
    "is_yes = False\n",
    "\n",
    "if puppy == \"maltese\":\n",
    "    print(\"말티즈.\")\n",
    "    is_yes = True\n",
    "    \n",
    "    if age <3:\n",
    "        print(\"말티즈 새끼\")\n",
    "\n",
    "elif puppy == \"poodle\" :\n",
    "    print(\"푸들\")\n",
    "    is_yes = True\n",
    "    \n",
    "elif puppy == \"shitzu\" :\n",
    "    print(\"시츄\")\n",
    "    is_yes = True\n",
    "    \n",
    "else :\n",
    "    print (\"말티푸\")\n",
    "    is_yes = True"
   ]
  },
  {
   "cell_type": "code",
   "execution_count": 34,
   "id": "6daea13b-0c87-47b7-9f4c-d70014e8178e",
   "metadata": {},
   "outputs": [
    {
     "name": "stdout",
     "output_type": "stream",
     "text": [
      "1\n",
      "[Error]\n",
      "continue\n"
     ]
    }
   ],
   "source": [
    "\"\"\"\n",
    "Exception handling\n",
    "\"\"\"\n",
    "\n",
    "x=1\n",
    "\n",
    "try:\n",
    "    print(x)\n",
    "    print(y)\n",
    "    \n",
    "except : \n",
    "    print('[Error]')\n",
    "    \n",
    "print(\"continue\")"
   ]
  }
 ],
 "metadata": {
  "kernelspec": {
   "display_name": "Python 3",
   "language": "python",
   "name": "python3"
  },
  "language_info": {
   "codemirror_mode": {
    "name": "ipython",
    "version": 3
   },
   "file_extension": ".py",
   "mimetype": "text/x-python",
   "name": "python",
   "nbconvert_exporter": "python",
   "pygments_lexer": "ipython3",
   "version": "3.8.8"
  }
 },
 "nbformat": 4,
 "nbformat_minor": 5
}
