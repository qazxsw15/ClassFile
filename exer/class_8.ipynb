{
 "cells": [
  {
   "cell_type": "code",
   "execution_count": 1,
   "id": "e2a56164-3442-4443-bfe4-8ea9a716e682",
   "metadata": {},
   "outputs": [],
   "source": [
    "import numpy as np \n",
    "import pandas as pd\n",
    "from matplotlib import pyplot as plt"
   ]
  },
  {
   "cell_type": "code",
   "execution_count": 2,
   "id": "c6ec0559-6eb3-4886-bb4f-e584d96ab871",
   "metadata": {},
   "outputs": [
    {
     "name": "stdout",
     "output_type": "stream",
     "text": [
      "[7 6 1 6 4]\n"
     ]
    }
   ],
   "source": [
    "\"\"\"\n",
    "Computing reciprocals in loops\n",
    "\"\"\"\n",
    "\n",
    "# Funtion for Computing reciprocals using loops\n",
    "\n",
    "def compute_reciprocals(values):\n",
    "    output = np.empty(len(values))\n",
    "    for i in range(len(values)):\n",
    "        output[i]=1.0/values[i]\n",
    "    return output\n",
    "\n",
    "values = np.random.randint(1,10,size = 5)\n",
    "print(values)"
   ]
  },
  {
   "cell_type": "code",
   "execution_count": 4,
   "id": "a03c3038-75c2-42c5-954e-c046a9e9a76b",
   "metadata": {},
   "outputs": [
    {
     "name": "stdout",
     "output_type": "stream",
     "text": [
      "1.68 s ± 39.7 ms per loop (mean ± std. dev. of 7 runs, 1 loop each)\n"
     ]
    }
   ],
   "source": [
    "\"\"\"\n",
    "Comparison : loop vs ufunce(vectorized)\n",
    "\"\"\"\n",
    "big_arrays = np.random.randint(1,10,size=1000000)\n",
    "\n",
    "# Looping on a big array\n",
    "\n",
    "# jupyter magic function\n",
    "\n",
    "%timeit compute_reciprocals(big_arrays)"
   ]
  },
  {
   "cell_type": "code",
   "execution_count": 7,
   "id": "a03f137f-9f44-4cb9-9b5c-f36a6e7500ee",
   "metadata": {},
   "outputs": [
    {
     "name": "stdout",
     "output_type": "stream",
     "text": [
      "2.57 ms ± 151 µs per loop (mean ± std. dev. of 7 runs, 100 loops each)\n"
     ]
    }
   ],
   "source": [
    "# Vectorized opreotions\n",
    "\n",
    "%timeit 1 / big_arrays"
   ]
  },
  {
   "cell_type": "code",
   "execution_count": 9,
   "id": "f39a022b-c0a3-40e6-8561-f405fd2ead4e",
   "metadata": {},
   "outputs": [
    {
     "name": "stdout",
     "output_type": "stream",
     "text": [
      "[5 8 9 5 0] [0 1 7 6 9]\n",
      "[ 3  6  7  3 -2] [0 1 7 6 9]\n",
      "[ 3  7 14  9  7]\n",
      "[[2 4 5 2 4]\n",
      " [2 4 7 7 9]\n",
      " [1 7 0 6 9]]\n",
      "[[ 4 16 25  4 16]\n",
      " [ 4 16 49 49 81]\n",
      " [ 1 49  0 36 81]]\n"
     ]
    }
   ],
   "source": [
    "\"\"\"\n",
    "numpy.ufunc\n",
    "\"\"\"\n",
    "\n",
    "np.random.seed(1)\n",
    "arr1  = np.random.randint(10, size=5)\n",
    "arr2  = np.random.randint(10, size=5)\n",
    "print(arr1,arr2)\n",
    "\n",
    "arr1= arr1 -2\n",
    "print(arr1,arr2)\n",
    "\n",
    "arr3 = arr1 + arr2\n",
    "print(arr3)\n",
    "\n",
    "arr4 = np.random.randint(10,size=(3,5))\n",
    "print(arr4)\n",
    "\n",
    "arr5 = arr4 **2\n",
    "print(arr5)"
   ]
  },
  {
   "cell_type": "code",
   "execution_count": 16,
   "id": "96c6618d-1842-48b1-a47d-12aee1efa1db",
   "metadata": {},
   "outputs": [
    {
     "name": "stdout",
     "output_type": "stream",
     "text": [
      "[2 1 0 1 2]\n",
      "[5. 5. 0. 1. 2.]\n"
     ]
    }
   ],
   "source": [
    "\"\"\"\n",
    "Ufuncs : Absolute Value\n",
    "\"\"\"\n",
    "\n",
    "x = np.array([-2,-1,0,1,2])\n",
    "print(np.abs(x))\n",
    "\n",
    "x = np.array([3-4j,4-3j,0,1,2])\n",
    "print(np.abs(x))"
   ]
  },
  {
   "cell_type": "code",
   "execution_count": 21,
   "id": "6c5333b6-f8f8-4fcc-b095-35db9849b420",
   "metadata": {},
   "outputs": [
    {
     "name": "stdout",
     "output_type": "stream",
     "text": [
      "[0.         1.57079633 3.14159265]\n",
      "[0.0000000e+00 1.0000000e+00 1.2246468e-16]\n",
      "[ 1.000000e+00  6.123234e-17 -1.000000e+00]\n",
      "[ 0.00000000e+00  1.63312394e+16 -1.22464680e-16]\n",
      "[  0.          11.11111111  22.22222222  33.33333333  44.44444444\n",
      "  55.55555556  66.66666667  77.77777778  88.88888889 100.        ]\n"
     ]
    }
   ],
   "source": [
    "\"\"\"\n",
    "Ufuncs : Trigonometrin Functions\n",
    "\"\"\"\n",
    "\n",
    "theta = np.linspace(0,np.pi,3)\n",
    "\n",
    "print(theta)\n",
    "print(np.sin(theta))\n",
    "print(np.cos(theta))\n",
    "print(np.tan(theta))\n",
    "\n",
    "x= np.linspace(0,100,10)\n",
    "print(x)"
   ]
  },
  {
   "cell_type": "code",
   "execution_count": 26,
   "id": "5b481fd3-0552-44cc-b1c5-cfdacf29eda6",
   "metadata": {},
   "outputs": [
    {
     "name": "stdout",
     "output_type": "stream",
     "text": [
      "[1 2 3 4]\n",
      "10\n",
      "24\n",
      "[ 1  3  6 10]\n",
      "[ 1  2  6 24]\n"
     ]
    }
   ],
   "source": [
    "\"\"\"\n",
    "UFuncs: Aggregation\n",
    "\"\"\"\n",
    "\n",
    "x = np.arange(1,5)\n",
    "print(x)\n",
    "accum = np.add.reduce(x)\n",
    "print(accum)\n",
    "\n",
    "accum = np.multiply.reduce(x)\n",
    "print(accum)\n",
    "\n",
    "accum = np.add.accumulate(x)\n",
    "print(accum)\n",
    "\n",
    "accum = np.multiply.accumulate(x)\n",
    "print(accum)"
   ]
  },
  {
   "cell_type": "code",
   "execution_count": 33,
   "id": "39d69c89-e818-4cde-ba02-bbfd373d6908",
   "metadata": {},
   "outputs": [
    {
     "name": "stdout",
     "output_type": "stream",
     "text": [
      "82 ms ± 4.08 ms per loop (mean ± std. dev. of 7 runs, 10 loops each)\n",
      "405 µs ± 15.6 µs per loop (mean ± std. dev. of 7 runs, 1000 loops each)\n"
     ]
    }
   ],
   "source": [
    "\"\"\"\n",
    "Summing the Values in an Array\n",
    "\"\"\"\n",
    "\n",
    "arr = np.random.rand(1000000)\n",
    "np.sum(arr)\n",
    "\n",
    "%timeit sum(arr)\n",
    "\n",
    "%timeit np.sum(arr)\n"
   ]
  },
  {
   "cell_type": "code",
   "execution_count": 34,
   "id": "d8179c1b-2acd-4c16-b1f5-300a99a0578d",
   "metadata": {},
   "outputs": [
    {
     "name": "stdout",
     "output_type": "stream",
     "text": [
      "max  0.9999994402748221\n",
      "min  2.685856454354152e-06\n",
      "mean  0.49974792232150633\n",
      "median  0.499478384573658\n",
      "percentile  0.9001509136077395\n",
      "False\n",
      "True\n"
     ]
    }
   ],
   "source": [
    "\"\"\"\n",
    "Other Aggregation Function\n",
    "\"\"\"\n",
    "\n",
    "print(\"max \",np.max(arr))\n",
    "print(\"min \",np.min(arr))\n",
    "print(\"mean \",np.mean(arr))\n",
    "print(\"median \", np.median(arr))\n",
    "print(\"percentile \",np.percentile(arr,90))\n",
    "\n",
    "print(np.any(arr>1))\n",
    "print(np.all(arr>0))"
   ]
  },
  {
   "cell_type": "code",
   "execution_count": 37,
   "id": "118086e3-1d66-444b-bfcb-6cca8e4556ad",
   "metadata": {},
   "outputs": [
    {
     "name": "stdout",
     "output_type": "stream",
     "text": [
      "[[3 6 6 0]\n",
      " [9 8 4 7]\n",
      " [0 0 7 1]]\n",
      "[15 28  8]\n"
     ]
    }
   ],
   "source": [
    "# Multi Dimensional Aggregates\n",
    "\n",
    "\n",
    "np.random.seed(5)\n",
    "arr = np.random.randint(10,size = (3,4))\n",
    "print(arr)\n",
    "print(np.sum(arr,axis=1))"
   ]
  }
 ],
 "metadata": {
  "kernelspec": {
   "display_name": "Python 3",
   "language": "python",
   "name": "python3"
  },
  "language_info": {
   "codemirror_mode": {
    "name": "ipython",
    "version": 3
   },
   "file_extension": ".py",
   "mimetype": "text/x-python",
   "name": "python",
   "nbconvert_exporter": "python",
   "pygments_lexer": "ipython3",
   "version": "3.8.8"
  }
 },
 "nbformat": 4,
 "nbformat_minor": 5
}
