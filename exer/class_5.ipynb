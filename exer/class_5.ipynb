{
 "cells": [
  {
   "cell_type": "code",
   "execution_count": 11,
   "id": "b7b05a33-4aeb-4ffc-9c04-241281368a7e",
   "metadata": {},
   "outputs": [
    {
     "name": "stdout",
     "output_type": "stream",
     "text": [
      "8\n",
      "7\n",
      "3\n"
     ]
    }
   ],
   "source": [
    "\"\"\"\n",
    "Functions vs Method\n",
    "\"\"\"\n",
    "\n",
    "def my_function(x):\n",
    "    return x + 1\n",
    "\n",
    "y = 7\n",
    "\n",
    "print(my_function(y))\n",
    "print(y)\n",
    "\n",
    "# method : 클래스 내에 정의된 함수\n",
    "\n",
    "class my_class :\n",
    "\n",
    "    def my_method(self):\n",
    "        return x + 1\n",
    "    \n",
    "cls = my_class()\n",
    "\n",
    "x=2\n",
    "print(cls.my_method())"
   ]
  },
  {
   "cell_type": "code",
   "execution_count": 16,
   "id": "33dfe646-4bcd-40e8-888b-a9043848b9f1",
   "metadata": {},
   "outputs": [
    {
     "name": "stdout",
     "output_type": "stream",
     "text": [
      "Hello everyone, my name is Hyun Ahn, I was born in 1985,and I live in Anyang.\n"
     ]
    }
   ],
   "source": [
    "\"\"\"\n",
    "Function Parameters\n",
    "\"\"\"\n",
    "\n",
    "def introduce_myself(name, birthyear, city):\n",
    "    print(\"Hello everyone, my name is %s, I was born in %d,and I live in %s.\" % (name, birthyear, city))\n",
    "    \n",
    "introduce_myself(\"Hyun Ahn\", 1985, \"Anyang\")"
   ]
  },
  {
   "cell_type": "code",
   "execution_count": 17,
   "id": "1fb22388-ff26-4f06-8c39-2008bbaca92c",
   "metadata": {},
   "outputs": [
    {
     "name": "stdout",
     "output_type": "stream",
     "text": [
      "2020 is a leap year.\n"
     ]
    }
   ],
   "source": [
    "\"\"\"\n",
    "Return Ketword\n",
    "\"\"\"\n",
    "\n",
    "# leap year : 윤년\n",
    "\n",
    "def check_leap_year(year):\n",
    "    if year % 4 == 0:\n",
    "        return str(year) + \" is a leap year.\"\n",
    "    else:\n",
    "        return str(year) + \" is a not leap year\"\n",
    "    \n",
    "result = check_leap_year(2020)\n",
    "\n",
    "print(result)"
   ]
  },
  {
   "cell_type": "code",
   "execution_count": 19,
   "id": "9adbe4ee-7c9b-4c00-8c55-6dd082092608",
   "metadata": {},
   "outputs": [
    {
     "name": "stdout",
     "output_type": "stream",
     "text": [
      "9 16 25\n"
     ]
    }
   ],
   "source": [
    "\"\"\"\n",
    "Return Multiple Valuse\n",
    "\"\"\"\n",
    "\n",
    "def square_point(x,y,z):\n",
    "    x_squared = x ** 2\n",
    "    y_squared = y ** 2\n",
    "    z_squared = z ** 2\n",
    "    return x_squared, y_squared, z_squared\n",
    "\n",
    "three_squared, four_squared, five_squared = square_point(3,4,5)\n",
    "\n",
    "print(three_squared, four_squared, five_squared)\n",
    "    "
   ]
  },
  {
   "cell_type": "code",
   "execution_count": 17,
   "id": "bcde9066-6ff8-4e8c-be03-11268a200805",
   "metadata": {},
   "outputs": [
    {
     "name": "stdout",
     "output_type": "stream",
     "text": [
      "Hello\n"
     ]
    }
   ],
   "source": [
    "\"\"\"\n",
    "Global Variables\n",
    "\"\"\"\n",
    "\n",
    "a = \"Hello\"\n",
    "def prints_a():\n",
    "    print(a)\n",
    "prints_a()"
   ]
  },
  {
   "cell_type": "code",
   "execution_count": 26,
   "id": "60c60f64-0266-40fc-8446-dd8c60ff9d4c",
   "metadata": {},
   "outputs": [
    {
     "name": "stdout",
     "output_type": "stream",
     "text": [
      "5\n",
      "5\n"
     ]
    }
   ],
   "source": [
    "\"\"\"\n",
    "Local Variable\n",
    "\"\"\"\n",
    "\n",
    "a = 5\n",
    "def f1():\n",
    "    #a = 2\n",
    "    print(a)\n",
    "print(a)\n",
    "f1()\n"
   ]
  },
  {
   "cell_type": "code",
   "execution_count": 31,
   "id": "aaaa6341-e2e1-41a2-9726-10c30f9ada5f",
   "metadata": {},
   "outputs": [
    {
     "name": "stdout",
     "output_type": "stream",
     "text": [
      "height = 1\n",
      "width = 2\n",
      "depth = 3\n",
      "6\n",
      "height = 2\n",
      "width = 1\n",
      "depth = 1\n",
      "2\n",
      "height = 11\n",
      "width = 2\n",
      "depth = 1\n",
      "22\n"
     ]
    }
   ],
   "source": [
    "\"\"\"\n",
    "Keywoad Areguments and Default Values\n",
    "\"\"\"\n",
    "\n",
    "def findvolume(height, width, depth = 4):\n",
    "    print(\"height = \" + str(height))\n",
    "    print(\"width = \" + str(width))\n",
    "    print(\"depth = \" + str(depth))\n",
    "    return height * width * depth\n",
    "    \n",
    "    # str() : 어떤 값을 문자열 값으로 변환\n",
    "    \n",
    "#예제 : 놉이 :1, 넓이 :2, 깊이: 3\n",
    "print(findvolume(1,2,3))\n",
    "print(findvolume(2,1,1))\n",
    "print(findvolume(width = 2,depth  = 1, height = 11))"
   ]
  }
 ],
 "metadata": {
  "kernelspec": {
   "display_name": "Python 3",
   "language": "python",
   "name": "python3"
  },
  "language_info": {
   "codemirror_mode": {
    "name": "ipython",
    "version": 3
   },
   "file_extension": ".py",
   "mimetype": "text/x-python",
   "name": "python",
   "nbconvert_exporter": "python",
   "pygments_lexer": "ipython3",
   "version": "3.8.8"
  }
 },
 "nbformat": 4,
 "nbformat_minor": 5
}
