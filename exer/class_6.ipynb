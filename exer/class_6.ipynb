{
 "cells": [
  {
   "cell_type": "code",
   "execution_count": 3,
   "id": "b9e6f02b-af7b-42b5-a17b-6f4caa4c6b42",
   "metadata": {},
   "outputs": [],
   "source": [
    "import numpy as np \n",
    "import pandas as pd\n",
    "from matplotlib import pyplot as plt"
   ]
  },
  {
   "cell_type": "code",
   "execution_count": 8,
   "id": "24eb5964-4f9b-4e1f-87ef-7cc82bc699a0",
   "metadata": {},
   "outputs": [
    {
     "name": "stdout",
     "output_type": "stream",
     "text": [
      "['1.6' '2.2' '3.1' '4.89' 'type']\n"
     ]
    }
   ],
   "source": [
    "#Creating a NumPy Array\n",
    "\n",
    "list = [1.6,2.2,3.1,4.89, \"type\"]\n",
    "\n",
    "arr = np.array(list)\n",
    "print(arr)"
   ]
  },
  {
   "cell_type": "code",
   "execution_count": 9,
   "id": "110aa60c-0249-4309-bbb5-2a1e34063b8c",
   "metadata": {},
   "outputs": [
    {
     "name": "stdout",
     "output_type": "stream",
     "text": [
      "<U32\n"
     ]
    }
   ],
   "source": [
    "#.dtype attribute\n",
    "print(arr.dtype)"
   ]
  },
  {
   "cell_type": "code",
   "execution_count": 13,
   "id": "abaf40c5-66a1-4754-a42b-78b25d6b1b31",
   "metadata": {},
   "outputs": [
    {
     "name": "stdout",
     "output_type": "stream",
     "text": [
      "728\n",
      "96\n"
     ]
    }
   ],
   "source": [
    "\"\"\"\n",
    "Size Comparison of ndarray and list objects\n",
    "\"\"\"\n",
    "\n",
    "from sys import getsizeof\n",
    "\n",
    "lst  = {1,5,2,3,23,1,23,213,2,13,123,12,3,12}  #int + object meta info\n",
    "print(getsizeof(lst))\n",
    "\n",
    "arr= np.array(lst)                             #int\n",
    "print(getsizeof(arr))"
   ]
  },
  {
   "cell_type": "code",
   "execution_count": 1,
   "id": "231acbaa-52ac-4224-bd10-0c8dd9cadfd5",
   "metadata": {},
   "outputs": [
    {
     "name": "stdout",
     "output_type": "stream",
     "text": [
      "[25, 20, 35, 15, 15, 30, 45, 30]\n"
     ]
    }
   ],
   "source": [
    "\n",
    "\"\"\"\n",
    "Operation with NumPy Arrays\n",
    "\"\"\"\n",
    "\n",
    "prices = [30, 25, 40, 20, 20, 35, 50, 35]\n",
    "\n",
    "#with a list\n",
    "new_prices = [price-5 for price in prices]\n",
    "print(new_prices)\n",
    "\n",
    "#with a ndarray\n",
    "prices_arr = np.array(prices)\n",
    "prices_arr -= 5\n",
    "print(prices_arr)"
   ]
  },
  {
   "cell_type": "code",
   "execution_count": 16,
   "id": "4b0ae09d-617c-41cc-9091-891d8771afcb",
   "metadata": {},
   "outputs": [
    {
     "name": "stdout",
     "output_type": "stream",
     "text": [
      "[89 87 74 92 94]\n",
      "\n",
      " [260 281 248 276 272]\n",
      "\n",
      " [86.66666667 93.66666667 82.66666667 92.         90.66666667]\n",
      "[94 88]\n",
      "[[ 92  94  88  91  87]\n",
      " [ 79 100  86  93  91]\n",
      " [ 87  85  72  90  92]]\n",
      "92\n",
      "[87 91 92]\n"
     ]
    }
   ],
   "source": [
    "# 세번의 시험에 대한 각 학생 별 점수를 NumPy 배열로 선언하세요\n",
    "\n",
    "test_1 = np.array ([92,94,88,91,87])\n",
    "test_2 = np.array ([79,100,86,93,91])\n",
    "test_3 = np.array ([87,85,72,90,92])\n",
    "\n",
    "test_3_fixed = test_3 + 2\n",
    "print(test_3_fixed)\n",
    "\n",
    "total_grade = test_1 + test_2 + test_3_fixed\n",
    "\n",
    "print(\"\\n\", total_grade)\n",
    "\n",
    "final_grade = total_grade / 3\n",
    "\n",
    "print(\"\\n\", final_grade)\n",
    "\n",
    "jeremy_test_2 = test_2[3]\n",
    "\n",
    "manual_adwoa_test_1 = np.array([test_1[1],test_1[2]])\n",
    "\n",
    "print(manual_adwoa_test_1)\n",
    "\n",
    "student_scores  = np.array([test_1,test_2,test_3])\n",
    "\n",
    "print(student_scores)\n",
    "\n",
    "tanya_test_3_scores = student_scores[0][0]\n",
    "\n",
    "print(tanya_test_3_scores)\n",
    "\n",
    "cody_all_scores = student_scores[:,4]\n",
    "\n",
    "print(cody_all_scores)"
   ]
  },
  {
   "cell_type": "code",
   "execution_count": 22,
   "id": "4827b882-74e6-4ff6-b869-19d8e5aaa09a",
   "metadata": {},
   "outputs": [
    {
     "name": "stdout",
     "output_type": "stream",
     "text": [
      "[ True False False False False False  True  True  True  True]\n",
      "[10  9  8  9  7]\n",
      "[10  2  2  9  8  9  7]\n",
      "[10  2  2  3  9  9]\n"
     ]
    }
   ],
   "source": [
    "\"\"\"\n",
    "Logical Operations with Arrays\n",
    "\"\"\"\n",
    "\n",
    "# masking\n",
    "\n",
    "a = np.array([10, 2, 2, 4, 5, 3, 9, 8, 9, 7])\n",
    "mask = a > 5\n",
    "print(mask)\n",
    "\n",
    "# select using Logical operations\n",
    "selected = a[a > 5]\n",
    "print(selected)\n",
    "\n",
    "\n",
    "# combined Logical operations\n",
    "selected = a[(a > 5) | (a < 3)]\n",
    "print(selected)\n",
    "\n",
    "selected = a[(a < 4) | (a > 8)]\n",
    "print(selected)\n"
   ]
  },
  {
   "cell_type": "code",
   "execution_count": 25,
   "id": "a12a309e-e441-49e7-85ee-a9667933ca13",
   "metadata": {},
   "outputs": [
    {
     "name": "stdout",
     "output_type": "stream",
     "text": [
      "[50 56 51]\n",
      "[90 85 98]\n",
      "[79 65 63 79]\n"
     ]
    }
   ],
   "source": [
    "\"\"\"\n",
    "Exercise: Goldilocks Porridge Festival\n",
    "\"\"\"\n",
    "\n",
    "porridge = np.array([79, 65, 50, 63, 56, 90, 85, 98, 79, 51])\n",
    "\n",
    "cold = porridge[porridge<60]\n",
    "\n",
    "hot = porridge[porridge>80]\n",
    "\n",
    "just_right = porridge[(porridge<80) &  (porridge>60) ]\n",
    "\n",
    "print(cold)\n",
    "\n",
    "print(hot)\n",
    "\n",
    "print(just_right)"
   ]
  }
 ],
 "metadata": {
  "kernelspec": {
   "display_name": "Python 3",
   "language": "python",
   "name": "python3"
  },
  "language_info": {
   "codemirror_mode": {
    "name": "ipython",
    "version": 3
   },
   "file_extension": ".py",
   "mimetype": "text/x-python",
   "name": "python",
   "nbconvert_exporter": "python",
   "pygments_lexer": "ipython3",
   "version": "3.8.8"
  }
 },
 "nbformat": 4,
 "nbformat_minor": 5
}
