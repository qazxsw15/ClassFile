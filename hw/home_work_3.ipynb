{
 "cells": [
  {
   "cell_type": "code",
   "execution_count": 211,
   "id": "19effb5d-7406-4ec4-8496-fcea14f37f1e",
   "metadata": {},
   "outputs": [
    {
     "name": "stdout",
     "output_type": "stream",
     "text": [
      "Average_price is 31.875\n",
      "[25, 20, 35, 15, 15, 30, 45, 30]\n",
      "total_revenue is  1085\n",
      "average_daily_revenue is  155.0\n",
      "['bouffant', 'pixie', 'crew', 'bowl']\n"
     ]
    }
   ],
   "source": [
    "hairstyles = [\"bouffant\", \"pixie\", \"dreadlocks\", \"crew\", \"bowl\", \"bob\", \"mohawk\", \"flattop\"]\n",
    "\n",
    "prices = [30, 25, 40, 20, 20, 35, 50, 35]\n",
    "\n",
    "last_week = [2, 3, 5, 8, 4, 4, 6, 2]\n",
    "\n",
    "total_price = 0 \n",
    "\n",
    "for price in prices:\n",
    "    total_price += price\n",
    "    \n",
    "average_price = total_price / len(prices)\n",
    "\n",
    "print(\"Average_price is\" , average_price)\n",
    "\n",
    "\n",
    "new_prices = [price - 5 for price in prices]\n",
    "\n",
    "print (new_prices)\n",
    "\n",
    "total_revenue = 0\n",
    "\n",
    "for i in range(len(hairstyles)):\n",
    "    total_revenue +=  prices[i] * last_week[i]\n",
    "\n",
    "print(\"total_revenue is \", total_revenue)\n",
    "print(\"average_daily_revenue is \",total_revenue/7)\n",
    "\n",
    "\n",
    "cuts_under_30 = [hairstyles[i] for i in range(len(new_prices)-1) if new_prices[i]<30]\n",
    "\n",
    "\n",
    "print(cuts_under_30)"
   ]
  },
  {
   "cell_type": "code",
   "execution_count": null,
   "id": "048c9df3-7ded-4149-9fe0-2ad24a1d3179",
   "metadata": {},
   "outputs": [],
   "source": []
  }
 ],
 "metadata": {
  "kernelspec": {
   "display_name": "Python 3",
   "language": "python",
   "name": "python3"
  },
  "language_info": {
   "codemirror_mode": {
    "name": "ipython",
    "version": 3
   },
   "file_extension": ".py",
   "mimetype": "text/x-python",
   "name": "python",
   "nbconvert_exporter": "python",
   "pygments_lexer": "ipython3",
   "version": "3.8.8"
  }
 },
 "nbformat": 4,
 "nbformat_minor": 5
}
