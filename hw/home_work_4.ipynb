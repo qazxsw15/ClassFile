{
 "cells": [
  {
   "cell_type": "code",
   "execution_count": 5,
   "id": "d08319b7-f0e6-429d-927f-294605c85d25",
   "metadata": {},
   "outputs": [
    {
     "name": "stdout",
     "output_type": "stream",
     "text": [
      "당신의 조선시대 이름은 김삼자 입니다\n"
     ]
    }
   ],
   "source": [
    "\n",
    "name_1 = ['쌍', '쇠', '복', '돌', '팽', '육', '쌍', '개', '칠', '갑', '삼', '방']\n",
    "name_2 = ['봉', '구', '욕', '포', '똥', '삼', '식', '석', '놈', '님', '년', '돌',\n",
    "          '단', '득', '방', '질', '장', '걸', '래', '룡', '동', '순', '자', '박',\n",
    "          '창', '언', '것', '포', '만', '단', '국']\n",
    "\n",
    "def get_my_chosun_name(family_name, month, day):\n",
    "    print(\"당신의 조선시대 이름은\", family_name + name_1[month-1] + name_2[day-1] +' 입니다')\n",
    "\n",
    "get_my_chosun_name('김', 11, 23)\n",
    "    \n",
    "\n",
    "\n",
    "    "
   ]
  }
 ],
 "metadata": {
  "kernelspec": {
   "display_name": "Python 3",
   "language": "python",
   "name": "python3"
  },
  "language_info": {
   "codemirror_mode": {
    "name": "ipython",
    "version": 3
   },
   "file_extension": ".py",
   "mimetype": "text/x-python",
   "name": "python",
   "nbconvert_exporter": "python",
   "pygments_lexer": "ipython3",
   "version": "3.8.8"
  }
 },
 "nbformat": 4,
 "nbformat_minor": 5
}
