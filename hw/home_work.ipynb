{
 "cells": [
  {
   "cell_type": "code",
   "execution_count": 28,
   "id": "7a8dfd30-e6a2-4254-be92-033d53472f55",
   "metadata": {},
   "outputs": [
    {
     "name": "stdout",
     "output_type": "stream",
     "text": [
      "welcome Lovely Love seat\n",
      "\n",
      "Customer One Items:\n",
      "\n",
      "Lovely Loveseat. Tufted polyester blend on wood. 32 inches high x 40 inches wide x 30 inches deep. Red or white.\n",
      "Luxurious Lamp. Glass and iron. 36 inches tall. Brown with cream shade.\n",
      "\n",
      "Customer One Total:\n",
      "333.09119999999996\n"
     ]
    }
   ],
   "source": [
    "print(\"welcome Lovely Love seat\")\n",
    "\n",
    "#가구의 정보와 가격 설정\n",
    "\n",
    "lovely_loveseat_description = \"\\nLovely Loveseat. Tufted polyester blend on wood. 32 inches high x 40 inches wide x 30 inches deep. Red or white.\"\n",
    "\n",
    "lovely_loveseat_price = 254.00\n",
    "\n",
    "stylish_settee_description = \"\\nStylish Settee. Faux leather on birch. 29.50 inches high x 54.75 inches wide x 28 inches deep. Black.\"\n",
    "\n",
    "stylish_settee_price = 180.50\n",
    "\n",
    "luxurious_lamp_description = \"\\nLuxurious Lamp. Glass and iron. 36 inches tall. Brown with cream shade.\"\n",
    "\n",
    "luxurious_lamp_price = 52.15\n",
    "\n",
    "#판매세 설정\n",
    "sales_tax = 0.088\n",
    "\n",
    "#출력 문구와 가격 계산을 위한 변수 지정\n",
    "customer_one_total = 0\n",
    "\n",
    "customer_one_itemization = lovely_loveseat_description + luxurious_lamp_description\n",
    "\n",
    "customer_one_total = lovely_loveseat_price + luxurious_lamp_price\n",
    "\n",
    "customer_one_tax = customer_one_total \n",
    "\n",
    "#영수증 출력문 \n",
    "\n",
    "print(\"\\nCustomer One Items:\",)\n",
    "\n",
    "print(customer_one_itemization )\n",
    "\n",
    "print(\"\\nCustomer One Total:\")\n",
    "\n",
    "print(customer_one_total + customer_one_tax * sales_tax)\n",
    "\n",
    "\n",
    "\n",
    "\n",
    "\n",
    "\n",
    "\n",
    "\n"
   ]
  }
 ],
 "metadata": {
  "kernelspec": {
   "display_name": "Python 3",
   "language": "python",
   "name": "python3"
  },
  "language_info": {
   "codemirror_mode": {
    "name": "ipython",
    "version": 3
   },
   "file_extension": ".py",
   "mimetype": "text/x-python",
   "name": "python",
   "nbconvert_exporter": "python",
   "pygments_lexer": "ipython3",
   "version": "3.8.8"
  }
 },
 "nbformat": 4,
 "nbformat_minor": 5
}
